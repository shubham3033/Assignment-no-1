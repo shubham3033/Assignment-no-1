{
 "cells": [
  {
   "cell_type": "raw",
   "id": "8a0c00d6",
   "metadata": {},
   "source": [
    "1. In the below elements which of them are values or an expression? eg:- values can be\n",
    "integer or string and expressions will be mathematical operators.\n",
    "\n",
    "* : Expression\n",
    "\n",
    "'hello' : Value\n",
    "\n",
    "-87.8: Value\n",
    "\n",
    "-: Expression\n",
    "\n",
    "/: Expression\n",
    "\n",
    "+: Expression\n",
    "\n",
    "6: Value\n"
   ]
  },
  {
   "cell_type": "raw",
   "id": "43ff2cc2",
   "metadata": {},
   "source": [
    "2. What is the difference between string and variable?\n",
    "\n",
    "Ans:- Variable: A variable is a symbolic name that represents a value Stored in the computer memory.\n",
    "\n",
    "String: It is a data type used to represent a sequence of character such as letter and symbol\n",
    "string are enclosed in quotation marks such as single quote and double quote"
   ]
  },
  {
   "cell_type": "raw",
   "id": "30865c35",
   "metadata": {},
   "source": [
    "3.Describe three different data types.\n",
    "\n",
    "Ans:- String, Integer, Floating point Number, boolean "
   ]
  },
  {
   "cell_type": "raw",
   "id": "2e19e2b6",
   "metadata": {},
   "source": [
    "4. What is an expression made up of? What do all expressions do?\n",
    "\n",
    "Ans:- A combination of operand and operator is called the expression."
   ]
  },
  {
   "cell_type": "raw",
   "id": "8c9342d1",
   "metadata": {},
   "source": [
    "5. This assignment statements, like spam = 10. What is the difference between an\n",
    "expression and a statement?\n",
    "\n",
    "Ans: spam = 10 is an assignment statement It assigned the value 10 the variable named spam \n",
    "expression are used to compute values \n",
    "statement are used to perform action"
   ]
  },
  {
   "cell_type": "code",
   "execution_count": 4,
   "id": "52118499",
   "metadata": {},
   "outputs": [
    {
     "data": {
      "text/plain": [
       "23"
      ]
     },
     "execution_count": 4,
     "metadata": {},
     "output_type": "execute_result"
    }
   ],
   "source": [
    "# 6. After running the following code, what does the variable bacon contain?\n",
    "bacon = 22\n",
    "bacon + 1"
   ]
  },
  {
   "cell_type": "code",
   "execution_count": 5,
   "id": "48f1701e",
   "metadata": {},
   "outputs": [
    {
     "data": {
      "text/plain": [
       "'SpamSpamSpam'"
      ]
     },
     "execution_count": 5,
     "metadata": {},
     "output_type": "execute_result"
    }
   ],
   "source": [
    "# 7. What should the values of the following two terms be?\n",
    "'Spam'+'SpamSpam' # The operation is concatenion combining two strings together"
   ]
  },
  {
   "cell_type": "code",
   "execution_count": 8,
   "id": "555987c2",
   "metadata": {},
   "outputs": [
    {
     "data": {
      "text/plain": [
       "'SpamSpamSpam'"
      ]
     },
     "execution_count": 8,
     "metadata": {},
     "output_type": "execute_result"
    }
   ],
   "source": [
    "# 7. What should the values of the following two terms be?\n",
    "'Spam'*3 # This operation is String Multiplication which repeats the string certain number of times"
   ]
  },
  {
   "cell_type": "raw",
   "id": "a6567f0d",
   "metadata": {},
   "source": [
    "8. Why is eggs a valid variable name while 100 is invalid?\n",
    "\n",
    "Ans: Becuase variable name cannot begin with the number"
   ]
  },
  {
   "cell_type": "raw",
   "id": "b6ebf94c",
   "metadata": {},
   "source": [
    "9. What three functions can be used to get the integer, floating-point number, or string\n",
    "version of a value?\n",
    "\n",
    "Ans: int(),float(),str()\n"
   ]
  },
  {
   "cell_type": "code",
   "execution_count": 16,
   "id": "bbcad4b6",
   "metadata": {},
   "outputs": [
    {
     "data": {
      "text/plain": [
       "'I have eaten99burritos'"
      ]
     },
     "execution_count": 16,
     "metadata": {},
     "output_type": "execute_result"
    }
   ],
   "source": [
    "# 10. Why does this expression cause an error? How can you fix it?\n",
    "'I have eaten'+ str(99) +'burritos'"
   ]
  },
  {
   "cell_type": "code",
   "execution_count": null,
   "id": "9d167361",
   "metadata": {},
   "outputs": [],
   "source": []
  }
 ],
 "metadata": {
  "kernelspec": {
   "display_name": "Python 3 (ipykernel)",
   "language": "python",
   "name": "python3"
  },
  "language_info": {
   "codemirror_mode": {
    "name": "ipython",
    "version": 3
   },
   "file_extension": ".py",
   "mimetype": "text/x-python",
   "name": "python",
   "nbconvert_exporter": "python",
   "pygments_lexer": "ipython3",
   "version": "3.9.7"
  }
 },
 "nbformat": 4,
 "nbformat_minor": 5
}
